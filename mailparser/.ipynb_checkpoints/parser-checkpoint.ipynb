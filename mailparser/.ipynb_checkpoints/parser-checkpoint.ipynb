{
 "cells": [
  {
   "cell_type": "code",
   "execution_count": 1,
   "metadata": {
    "collapsed": false
   },
   "outputs": [],
   "source": [
    "import re\n",
    "import json\n",
    "import datetime\n",
    "\n",
    "raw_letters = None\n",
    "with open(\"raw_letters.json\", 'r') as raw_letters_file:\n",
    "    raw_letters = json.load(raw_letters_file)"
   ]
  },
  {
   "cell_type": "code",
   "execution_count": 2,
   "metadata": {
    "collapsed": false
   },
   "outputs": [],
   "source": [
    "timestamp_regex = r\"(по|до) (((\\d\\d?) (января|февраля|марта|апреля|мая|июня|июля|августа|сентября|октября|ноября|декабря))|(\\d\\d?\\.\\d\\d?(.(\\d\\d)?\\d\\d)?))\"\n",
    "\n",
    "month_to_number = {\"января\":\"01\", \"февраля\":\"02\", \"марта\":\"03\",\n",
    "                   \"апреля\":\"04\", \"мая\":\"05\", \"июня\":\"06\", \"июля\":\"07\", \"августа\":\"08\", \n",
    "                   \"сентября\":\"09\", \"октября\":\"10\", \"ноября\":\"11\", \"декабря\":\"12\"}\n",
    "\n",
    "def extract_date(text, start, end):\n",
    "    str_date = text[start:end][3:]\n",
    "    for p in month_to_number:\n",
    "        str_date = str_date.replace(p, month_to_number[p])\n",
    "\n",
    "    if len(str_date.split()) == 2:\n",
    "        str_date = \".\".join((str_date + \" 2018\").split())\n",
    "\n",
    "    if str_date.count('.') > 2:\n",
    "        str_date = '.'.join(str_date.split('.')[-3:])\n",
    "\n",
    "    return str_date\n",
    "\n",
    "def find_discounts(text):\n",
    "    discount_regex = r\"\\d\\d?%\"\n",
    "    discount_match = re.findall(discount_regex, text) \n",
    "    if (discount_match):\n",
    "        max_discount = max(discount_match)\n",
    "        count = len(set(discount_match))\n",
    "        return max_discount, count\n",
    "    else:\n",
    "        return 0, 0\n",
    "\n",
    "def get_letter_data(raw_letter):\n",
    "    from_date = datetime.datetime.fromtimestamp(raw_letter[\"date\"]).strftime('%d.%m.%Y')\n",
    "    to_date = None\n",
    "    text = None\n",
    "    discount = None \n",
    "    \n",
    "    date_match = re.search(timestamp_regex, raw_letter[\"body\"][\"text\"])\n",
    "    if date_match:\n",
    "        text = raw_letter[\"body\"][\"text\"]\n",
    "        start, end = date_match.span()\n",
    "        to_date = extract_date(text, start, end)\n",
    "        discount, count = find_discounts(text)\n",
    "        text = \"Количество текущих предложений: {}\".format(count)\n",
    "    else:\n",
    "        return None\n",
    "    return {\"from\":from_date, \"to\":to_date, \"text\":text, \"discount\":discount}\n",
    "\n",
    "\n",
    "def get_direct_letter_link(raw_letter):\n",
    "    return \"https://e.mail.ru/message/\" + raw_letter[\"id\"]\n",
    "\n",
    "def get_company_info(raw_letter):\n",
    "    company = raw_letter[\"from\"][\"name\"]\n",
    "    picture = raw_letter[\"from\"][\"avatars\"][\"50x50\"]\n",
    "    return company, picture\n",
    "\n",
    "def get_labels(raw_letter):\n",
    "    text = raw_letter[\"body\"][\"text\"]\n",
    "    labels = list()\n",
    "    if \"промокод\" in text.lower():\n",
    "        labels.append(\"Есть промокод\")\n",
    "    if \"на все\" in text.lower():\n",
    "        labels.append(\"На все товары\")\n",
    "    \n",
    "    return labels"
   ]
  },
  {
   "cell_type": "code",
   "execution_count": 3,
   "metadata": {
    "collapsed": false
   },
   "outputs": [],
   "source": [
    "def process_letters(raw_letters):\n",
    "    letters = list()\n",
    "    for raw_letter in raw_letters:\n",
    "        company, picture = get_company_info(raw_letter)\n",
    "        data = get_letter_data(raw_letter)\n",
    "        link = get_direct_letter_link(raw_letter)\n",
    "        subject = raw_letter[\"subject\"]\n",
    "        labels = get_labels(raw_letter)\n",
    "        letter = { \"company\":company, \"picture\":picture, \"data\":data, \"link\":link, \"subject\":subject, \"labels\":labels}\n",
    "        letters.append(letter)\n",
    "    letters = filter_dates(letters)\n",
    "    return letters\n",
    "\n",
    "def filter_dates(letters):\n",
    "    current_date = datetime.datetime.now().timestamp()\n",
    "    return list(filter(lambda x: x[\"company\"] and x[\"data\"] and x[\"data\"][\"discount\"] and  datetime.datetime.strptime(x[\"data\"][\"to\"], \"%d.%m.%Y\").timestamp() > current_date, letters)) \n",
    "\n",
    "def order_by_companies(letters):\n",
    "    unique_companies = set(i[\"company\"] for i in letters)\n",
    "    ordered = {key:[] for key in unique_companies}\n",
    "    for letter in letters:\n",
    "        ordered[letter[\"company\"]].append(letter)\n",
    "    return ordered"
   ]
  },
  {
   "cell_type": "code",
   "execution_count": 4,
   "metadata": {
    "collapsed": false,
    "scrolled": true
   },
   "outputs": [],
   "source": [
    "letters = process_letters(raw_letters)\n",
    "with open(\"letters.json\", 'w') as letters_file:\n",
    "    json.dump(letters, letters_file)"
   ]
  },
  {
   "cell_type": "code",
   "execution_count": 5,
   "metadata": {
    "collapsed": false
   },
   "outputs": [
    {
     "data": {
      "text/plain": [
       "[{'company': 'E96.ru',\n",
       "  'data': {'discount': '5%',\n",
       "   'from': '12.07.2018',\n",
       "   'text': 'Количество текущих предложений: 1',\n",
       "   'to': '16.07.2018'},\n",
       "  'link': 'https://e.mail.ru/message/15313800380000002802',\n",
       "  'picture': 'https://filin.mail.ru/pic?user=smartmail_team3@mail.ru&email=e96@e.e96.ru&trust=true&sign=f7fb79db0ac9de18f980623f49824dd4bbc4cbc9&width=50&height=50',\n",
       "  'subject': '🎁 Получите скидку ко дню фотографа!'},\n",
       " {'company': 'MediaMarkt',\n",
       "  'data': {'discount': '90%',\n",
       "   'from': '06.07.2018',\n",
       "   'text': 'Количество текущих предложений: 1',\n",
       "   'to': '20.07.2018'},\n",
       "  'link': 'https://e.mail.ru/message/15308729480000002683',\n",
       "  'picture': 'https://filin.mail.ru/pic?user=smartmail_team3@mail.ru&email=help@mediamarktsupport.ru&trust=true&sign=b709f9f1627625765ce566b314b4f9d201dcf7b9&width=50&height=50',\n",
       "  'subject': '🔥 СКИДКИ до 90%! 🔔 ЛИКВИДАЦИЯ в связи c закрытием отдела MediaMarkt в METRO'},\n",
       " {'company': 'HOLODILNIK.RU',\n",
       "  'data': {'discount': '50%',\n",
       "   'from': '05.07.2018',\n",
       "   'text': 'Количество текущих предложений: 2',\n",
       "   'to': '31.07.2018'},\n",
       "  'link': 'https://e.mail.ru/message/15307789760000002663',\n",
       "  'picture': 'https://filin.mail.ru/pic?user=smartmail_team3@mail.ru&email=newsletter@holodilnik.ru&trust=true&sign=2bca68674dfdd95083723ea429bceaca872a12cf&width=50&height=50',\n",
       "  'subject': 'Bosch и Siemens: получите в 2 раза больше миль программы «Аэрофлот Бонус» за покупку техники!'},\n",
       " {'company': 'client@hoff.ru',\n",
       "  'data': {'discount': '20%',\n",
       "   'from': '02.07.2018',\n",
       "   'text': 'Количество текущих предложений: 2',\n",
       "   'to': '31.07.2018'},\n",
       "  'link': 'https://e.mail.ru/message/15305377610000002609',\n",
       "  'picture': 'https://filin.mail.ru/pic?user=smartmail_team3@mail.ru&email=client@hoff.ru&trust=true&sign=71874327d86d3a4bcee944056fc6991be8a07b75&width=50&height=50',\n",
       "  'subject': '🏆 Летняя победная распродажа!'},\n",
       " {'company': 'MediaMarkt',\n",
       "  'data': {'discount': '70%',\n",
       "   'from': '30.06.2018',\n",
       "   'text': 'Количество текущих предложений: 2',\n",
       "   'to': '20.07.2018'},\n",
       "  'link': 'https://e.mail.ru/message/15303489710000002575',\n",
       "  'picture': 'https://filin.mail.ru/pic?user=smartmail_team3@mail.ru&email=help@mediamarktsupport.ru&trust=true&sign=b709f9f1627625765ce566b314b4f9d201dcf7b9&width=50&height=50',\n",
       "  'subject': '🔔Распродажа до 70%! ЛИКВИДАЦИЯ в связи закрытием отдела MediaMarkt в METRO'},\n",
       " {'company': 'Reebok',\n",
       "  'data': {'discount': '50%',\n",
       "   'from': '28.06.2018',\n",
       "   'text': 'Количество текущих предложений: 1',\n",
       "   'to': '16.07.2018'},\n",
       "  'link': 'https://e.mail.ru/message/15302083720000002549',\n",
       "  'picture': 'https://filin.mail.ru/pic?user=smartmail_team3@mail.ru&email=customer@reebok.ru&trust=true&sign=becdb912e1c5ea2c8966c6b67f5f513bf42c308d&width=50&height=50',\n",
       "  'subject': 'Бестселлеры распродажи | Успей купить, пока они есть в наличии'},\n",
       " {'company': 'MediaMarkt',\n",
       "  'data': {'discount': '70%',\n",
       "   'from': '28.06.2018',\n",
       "   'text': 'Количество текущих предложений: 2',\n",
       "   'to': '20.07.2018'},\n",
       "  'link': 'https://e.mail.ru/message/15301793010000002538',\n",
       "  'picture': 'https://filin.mail.ru/pic?user=smartmail_team3@mail.ru&email=help@mediamarktsupport.ru&trust=true&sign=b709f9f1627625765ce566b314b4f9d201dcf7b9&width=50&height=50',\n",
       "  'subject': '🔔 ЛИКВИДАЦИЯ! Скидки до 70%! Закрытие отдела MediaMarkt в METRO'},\n",
       " {'company': 'Reebok',\n",
       "  'data': {'discount': '50%',\n",
       "   'from': '22.06.2018',\n",
       "   'text': 'Количество текущих предложений: 2',\n",
       "   'to': '16.07.2018'},\n",
       "  'link': 'https://e.mail.ru/message/15296590080000002436',\n",
       "  'picture': 'https://filin.mail.ru/pic?user=smartmail_team3@mail.ru&email=customer@reebok.ru&trust=true&sign=becdb912e1c5ea2c8966c6b67f5f513bf42c308d&width=50&height=50',\n",
       "  'subject': 'Летняя распродажа в разгаре!'},\n",
       " {'company': 'adidas Online Shop',\n",
       "  'data': {'discount': '50%',\n",
       "   'from': '20.06.2018',\n",
       "   'text': 'Количество текущих предложений: 2',\n",
       "   'to': '16.07.2018'},\n",
       "  'link': 'https://e.mail.ru/message/15294832350000002396',\n",
       "  'picture': 'https://filin.mail.ru/pic?user=smartmail_team3@mail.ru&email=customer@shop.adidas.ru&trust=true&sign=e465c796f4b4e149bfd03dd704d16c5b73f2fde9&width=50&height=50',\n",
       "  'subject': 'Распродажа в adidas: скидки до 50%'},\n",
       " {'company': 'Юлмарт',\n",
       "  'data': {'discount': '5%',\n",
       "   'from': '01.06.2018',\n",
       "   'text': 'Количество текущих предложений: 4',\n",
       "   'to': '31.08.2018'},\n",
       "  'link': 'https://e.mail.ru/message/15278662710000002056',\n",
       "  'picture': 'https://filin.mail.ru/pic?user=smartmail_team3@mail.ru&email=4u@e.ulmart.ru&trust=true&sign=6508c58f2c387afb78c1f82ebd40b7b2f830881a&width=50&height=50',\n",
       "  'subject': 'Открытие Юлмарт в ТЦ \"У Речного\"'},\n",
       " {'company': 'Буквоед',\n",
       "  'data': {'discount': '25%',\n",
       "   'from': '18.04.2018',\n",
       "   'text': 'Количество текущих предложений: 1',\n",
       "   'to': '04.08.2018'},\n",
       "  'link': 'https://e.mail.ru/message/15240219110000001180',\n",
       "  'picture': 'https://filin.mail.ru/pic?user=smartmail_team3@mail.ru&email=letter@bookvoed.ru&trust=true&sign=3f3328e4c8b1a82bd1a56468df3062c0862bd13e&width=50&height=50',\n",
       "  'subject': 'Библионочь - местами ожидается до -25'}]"
      ]
     },
     "execution_count": 5,
     "metadata": {},
     "output_type": "execute_result"
    }
   ],
   "source": [
    "letters"
   ]
  },
  {
   "cell_type": "code",
   "execution_count": 6,
   "metadata": {
    "collapsed": false
   },
   "outputs": [
    {
     "data": {
      "text/plain": [
       "datetime.datetime(2018, 3, 16, 0, 0)"
      ]
     },
     "execution_count": 6,
     "metadata": {},
     "output_type": "execute_result"
    }
   ],
   "source": [
    "datetime.datetime.strptime('16.03.2018', \"%d.%m.%Y\")"
   ]
  },
  {
   "cell_type": "code",
   "execution_count": null,
   "metadata": {
    "collapsed": true
   },
   "outputs": [],
   "source": []
  }
 ],
 "metadata": {
  "anaconda-cloud": {},
  "kernelspec": {
   "display_name": "Python [conda root]",
   "language": "python",
   "name": "conda-root-py"
  },
  "language_info": {
   "codemirror_mode": {
    "name": "ipython",
    "version": 3
   },
   "file_extension": ".py",
   "mimetype": "text/x-python",
   "name": "python",
   "nbconvert_exporter": "python",
   "pygments_lexer": "ipython3",
   "version": "3.5.2"
  }
 },
 "nbformat": 4,
 "nbformat_minor": 2
}

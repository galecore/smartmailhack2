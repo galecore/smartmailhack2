{
 "cells": [
  {
   "cell_type": "code",
   "execution_count": 1,
   "metadata": {
    "collapsed": false
   },
   "outputs": [],
   "source": [
    "import re\n",
    "import json\n",
    "import datetime\n",
    "\n",
    "raw_letters = None\n",
    "with open(\"raw_letters.json\", 'r') as raw_letters_file:\n",
    "    raw_letters = json.load(raw_letters_file)"
   ]
  },
  {
   "cell_type": "code",
   "execution_count": 7,
   "metadata": {
    "collapsed": false
   },
   "outputs": [],
   "source": [
    "timestamp_regex = r\"(по|до) (((\\d\\d?) (января|февраля|марта|апреля|мая|июня|июля|августа|сентября|октября|ноября|декабря))|(\\d\\d?\\.\\d\\d?(.(\\d\\d)?\\d\\d)?))\"\n",
    "\n",
    "month_to_number = {\"января\":\"01\", \"февраля\":\"02\", \"марта\":\"03\",\n",
    "                   \"апреля\":\"04\", \"мая\":\"05\", \"июня\":\"06\", \"июля\":\"07\", \"августа\":\"08\", \n",
    "                   \"сентября\":\"09\", \"октября\":\"10\", \"ноября\":\"11\", \"декабря\":\"12\"}\n",
    "\n",
    "def extract_date(text, start, end):\n",
    "    str_date = text[start:end][3:]\n",
    "    for p in month_to_number:\n",
    "        str_date = str_date.replace(p, month_to_number[p])\n",
    "\n",
    "    if len(str_date.split()) == 2:\n",
    "        str_date = \".\".join((str_date + \" 2018\").split())\n",
    "\n",
    "    if str_date.count('.') > 2:\n",
    "        str_date = '.'.join(str_date.split('.')[-3:])\n",
    "\n",
    "    return str_date\n",
    "\n",
    "def find_discounts(text):\n",
    "    discount_regex = r\"\\d\\d?%\"\n",
    "    discount_match = re.findall(discount_regex, text) \n",
    "    if (discount_match):\n",
    "        max_discount = max(discount_match)\n",
    "        count = len(set(discount_match))\n",
    "        return max_discount, count\n",
    "    else:\n",
    "        return 0, 0\n",
    "\n",
    "def get_letter_data(raw_letter):\n",
    "    from_date = datetime.datetime.fromtimestamp(raw_letter[\"date\"]).strftime('%d.%m.%Y')\n",
    "    to_date = None\n",
    "    text = None\n",
    "    discount = None \n",
    "    \n",
    "    date_match = re.search(timestamp_regex, raw_letter[\"body\"][\"text\"])\n",
    "    if date_match:\n",
    "        text = raw_letter[\"body\"][\"text\"]\n",
    "        start, end = date_match.span()\n",
    "        to_date = extract_date(text, start, end)\n",
    "        discount, count = find_discounts(text)\n",
    "        text = \"Количество текущих предложений: {}\".format(count)\n",
    "    else:\n",
    "        return None\n",
    "    return {\"from\":from_date, \"to\":to_date, \"text\":text, \"discount\":discount}\n",
    "\n",
    "\n",
    "def get_direct_letter_link(raw_letter):\n",
    "    return \"https://e.mail.ru/message/\" + raw_letter[\"id\"]\n",
    "\n",
    "def get_company_info(raw_letter):\n",
    "    company = raw_letter[\"from\"][\"name\"]\n",
    "    picture = raw_letter[\"from\"][\"avatars\"][\"50x50\"]\n",
    "    return company, picture\n",
    "\n",
    "def get_labels(raw_letter):\n",
    "    text = raw_letter[\"body\"][\"text\"]\n",
    "    labels = list()\n",
    "    if \"на все\" in text.lower():\n",
    "        labels.append(\"На все товары\")\n",
    "    if \"промокод\" in text.lower():\n",
    "        labels.append(\"Есть промокод\")\n",
    "    return labels"
   ]
  },
  {
   "cell_type": "code",
   "execution_count": 8,
   "metadata": {
    "collapsed": false
   },
   "outputs": [],
   "source": [
    "def process_letters(raw_letters):\n",
    "    letters = list()\n",
    "    for raw_letter in raw_letters:\n",
    "        company, picture = get_company_info(raw_letter)\n",
    "        data = get_letter_data(raw_letter)\n",
    "        link = get_direct_letter_link(raw_letter)\n",
    "        subject = raw_letter[\"subject\"]\n",
    "        labels = get_labels(raw_letter)\n",
    "        letter = { \"company\":company, \"picture\":picture, \"data\":data, \"link\":link, \"subject\":subject, \"labels\":labels}\n",
    "        letters.append(letter)\n",
    "    letters = filter_dates(letters)\n",
    "    return letters\n",
    "\n",
    "def filter_dates(letters):\n",
    "    current_date = datetime.datetime.now().timestamp()\n",
    "    return list(filter(lambda x: x[\"company\"] and x[\"data\"] and x[\"data\"][\"discount\"] and  datetime.datetime.strptime(x[\"data\"][\"to\"], \"%d.%m.%Y\").timestamp() > current_date, letters)) \n",
    "\n",
    "def order_by_companies(letters):\n",
    "    unique_companies = set(i[\"company\"] for i in letters)\n",
    "    ordered = {key:[] for key in unique_companies}\n",
    "    for letter in letters:\n",
    "        ordered[letter[\"company\"]].append(letter)\n",
    "    return ordered"
   ]
  },
  {
   "cell_type": "code",
   "execution_count": 9,
   "metadata": {
    "collapsed": false,
    "scrolled": true
   },
   "outputs": [],
   "source": [
    "letters = process_letters(raw_letters)\n",
    "with open(\"letters.json\", 'w') as letters_file:\n",
    "    json.dump(letters, letters_file)"
   ]
  },
  {
   "cell_type": "code",
   "execution_count": 12,
   "metadata": {
    "collapsed": false
   },
   "outputs": [
    {
     "name": "stdout",
     "output_type": "stream",
     "text": [
      "['На все товары', 'Есть промокод']\n",
      "[]\n",
      "['Есть промокод']\n",
      "[]\n",
      "[]\n",
      "[]\n",
      "[]\n",
      "[]\n",
      "[]\n",
      "['Есть промокод']\n",
      "[]\n"
     ]
    }
   ],
   "source": [
    "for i in letters:\n",
    "    print(i[\"labels\"])"
   ]
  },
  {
   "cell_type": "code",
   "execution_count": 6,
   "metadata": {
    "collapsed": false
   },
   "outputs": [
    {
     "data": {
      "text/plain": [
       "datetime.datetime(2018, 3, 16, 0, 0)"
      ]
     },
     "execution_count": 6,
     "metadata": {},
     "output_type": "execute_result"
    }
   ],
   "source": [
    "datetime.datetime.strptime('16.03.2018', \"%d.%m.%Y\")"
   ]
  },
  {
   "cell_type": "code",
   "execution_count": null,
   "metadata": {
    "collapsed": true
   },
   "outputs": [],
   "source": []
  }
 ],
 "metadata": {
  "anaconda-cloud": {},
  "kernelspec": {
   "display_name": "Python [conda root]",
   "language": "python",
   "name": "conda-root-py"
  },
  "language_info": {
   "codemirror_mode": {
    "name": "ipython",
    "version": 3
   },
   "file_extension": ".py",
   "mimetype": "text/x-python",
   "name": "python",
   "nbconvert_exporter": "python",
   "pygments_lexer": "ipython3",
   "version": "3.5.2"
  }
 },
 "nbformat": 4,
 "nbformat_minor": 2
}

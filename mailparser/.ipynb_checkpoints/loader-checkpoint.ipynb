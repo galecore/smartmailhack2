{
 "cells": [
  {
   "cell_type": "code",
   "execution_count": 1,
   "metadata": {
    "collapsed": false
   },
   "outputs": [],
   "source": [
    "import requests\n",
    "import re\n",
    "\n",
    "base_url = \"https://e.mail.ru/api/v1/messages/\"\n",
    "email = \"&email=smartmail_team3@mail.ru&\"\n",
    "token = \"access_token=e5305a9cbb38716fafad3a0de027eafc140c5fb537363830\""
   ]
  },
  {
   "cell_type": "code",
   "execution_count": 2,
   "metadata": {
    "collapsed": false
   },
   "outputs": [
    {
     "name": "stdout",
     "output_type": "stream",
     "text": [
      "https://e.mail.ru/api/v1/messages/search?query=Скидка&offset=0&limit=100&&email=smartmail_team3@mail.ru&access_token=e5305a9cbb38716fafad3a0de027eafc140c5fb537363830\n",
      "https://e.mail.ru/api/v1/messages/search?query=Скидка&offset=100&limit=100&&email=smartmail_team3@mail.ru&access_token=e5305a9cbb38716fafad3a0de027eafc140c5fb537363830\n",
      "https://e.mail.ru/api/v1/messages/search?query=Скидка&offset=200&limit=100&&email=smartmail_team3@mail.ru&access_token=e5305a9cbb38716fafad3a0de027eafc140c5fb537363830\n",
      "https://e.mail.ru/api/v1/messages/search?query=Скидка&offset=300&limit=100&&email=smartmail_team3@mail.ru&access_token=e5305a9cbb38716fafad3a0de027eafc140c5fb537363830\n",
      "https://e.mail.ru/api/v1/messages/search?query=Скидка&offset=400&limit=100&&email=smartmail_team3@mail.ru&access_token=e5305a9cbb38716fafad3a0de027eafc140c5fb537363830\n",
      "https://e.mail.ru/api/v1/messages/search?query=Скидка&offset=500&limit=100&&email=smartmail_team3@mail.ru&access_token=e5305a9cbb38716fafad3a0de027eafc140c5fb537363830\n",
      "https://e.mail.ru/api/v1/messages/search?query=Скидка&offset=600&limit=100&&email=smartmail_team3@mail.ru&access_token=e5305a9cbb38716fafad3a0de027eafc140c5fb537363830\n",
      "https://e.mail.ru/api/v1/messages/search?query=Скидка&offset=700&limit=100&&email=smartmail_team3@mail.ru&access_token=e5305a9cbb38716fafad3a0de027eafc140c5fb537363830\n",
      "https://e.mail.ru/api/v1/messages/search?query=Скидка&offset=800&limit=100&&email=smartmail_team3@mail.ru&access_token=e5305a9cbb38716fafad3a0de027eafc140c5fb537363830\n",
      "https://e.mail.ru/api/v1/messages/search?query=Скидка&offset=900&limit=100&&email=smartmail_team3@mail.ru&access_token=e5305a9cbb38716fafad3a0de027eafc140c5fb537363830\n",
      "https://e.mail.ru/api/v1/messages/search?query=Скидка&offset=1000&limit=100&&email=smartmail_team3@mail.ru&access_token=e5305a9cbb38716fafad3a0de027eafc140c5fb537363830\n",
      "https://e.mail.ru/api/v1/messages/search?query=Скидка&offset=1100&limit=100&&email=smartmail_team3@mail.ru&access_token=e5305a9cbb38716fafad3a0de027eafc140c5fb537363830\n",
      "https://e.mail.ru/api/v1/messages/search?query=Скидка&offset=1200&limit=100&&email=smartmail_team3@mail.ru&access_token=e5305a9cbb38716fafad3a0de027eafc140c5fb537363830\n"
     ]
    }
   ],
   "source": [
    "def get_all_letters_by_query(query):\n",
    "    url = base_url + \"search?query=\" + query + \"&limit=1&\" + email + token \n",
    "    response = requests.get(url).json()[\"body\"]\n",
    "    count = response[\"found\"][\"count\"]\n",
    "    \n",
    "    ids = list()\n",
    "    for i in range(0, count, 100):\n",
    "        url = base_url + \"search?query=\" + query + \"&offset=\" + str(i) + \"&limit=100&\" + email + token \n",
    "        print(url)\n",
    "        messages = requests.get(url).json()[\"body\"][\"messages\"]\n",
    "        for m in messages:\n",
    "            ids.append(m[\"id\"])\n",
    "    return ids"
   ]
  },
  {
   "cell_type": "code",
   "execution_count": 3,
   "metadata": {
    "collapsed": false
   },
   "outputs": [],
   "source": [
    "def get_all_letters_by_id(ids):\n",
    "    letters = list()\n",
    "    for id in ids:\n",
    "        url = base_url + \"message?id=\"+ str(id) + email + token \n",
    "        response = requests.get(url).json()[\"body\"]\n",
    "        from_obj = response[\"replies\"][\"to\"][0]\n",
    "        subject = response[\"subject\"]\n",
    "        body = response[\"body\"]\n",
    "        date = response[\"date\"]\n",
    "        letters.append({\"from\":from_obj, \"subject\":subject, \"body\":body, \"id\":id, \"date\":date})\n",
    "    return letters\n",
    "\n",
    "\n",
    "ids = get_all_letters_by_query(\"Скидка\")\n",
    "letters = get_all_letters_by_id(ids)"
   ]
  },
  {
   "cell_type": "code",
   "execution_count": 4,
   "metadata": {
    "collapsed": false
   },
   "outputs": [
    {
     "name": "stdout",
     "output_type": "stream",
     "text": [
      "Loaded.\n"
     ]
    }
   ],
   "source": [
    "import json\n",
    "with open(\"raw_letters.json\", 'w') as raw_letters_file:\n",
    "    json.dump(letters, raw_letters_file)\n",
    "\n",
    "print(\"Loaded.\")"
   ]
  }
 ],
 "metadata": {
  "anaconda-cloud": {},
  "kernelspec": {
   "display_name": "Python [conda root]",
   "language": "python",
   "name": "conda-root-py"
  },
  "language_info": {
   "codemirror_mode": {
    "name": "ipython",
    "version": 3
   },
   "file_extension": ".py",
   "mimetype": "text/x-python",
   "name": "python",
   "nbconvert_exporter": "python",
   "pygments_lexer": "ipython3",
   "version": "3.5.2"
  }
 },
 "nbformat": 4,
 "nbformat_minor": 2
}
